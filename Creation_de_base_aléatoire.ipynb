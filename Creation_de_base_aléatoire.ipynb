{
 "cells": [
  {
   "cell_type": "markdown",
   "metadata": {},
   "source": [
    "### Création d'une base test"
   ]
  },
  {
   "cell_type": "markdown",
   "metadata": {},
   "source": [
    "The purpose is to test the efficiency of the algorithms on known data, we build a data base in order to have:\n",
    "\n",
    "$ Y=Xt+𝛆$ with $ 𝛆 \\sim \\mathcal{N}(\\mu,\\,\\sigma^{2})\\,. $\n",
    "And then we add outliers to test the robustness of our algorithms."
   ]
  },
  {
   "cell_type": "code",
   "execution_count": 1,
   "metadata": {},
   "outputs": [],
   "source": [
    "import numpy as np\n",
    "import numpy.random as alea\n",
    "import random as rd"
   ]
  },
  {
   "cell_type": "code",
   "execution_count": 2,
   "metadata": {},
   "outputs": [],
   "source": [
    "class base :\n",
    "    \n",
    "    def create_t_0(n, sparsity) :\n",
    "        \n",
    "        idx = np.arange(n)\n",
    "        beta = (n / 10) * (-1) ** (abs(idx - 1)) * np.exp(-idx / 10.)\n",
    "        sel = alea.permutation(n)\n",
    "        sel1 = sel[0 : int(sparsity / 4)]\n",
    "        beta[sel1] = 10\n",
    "        sel11 = sel[int(sparsity / 4) : int(sparsity / 2)]\n",
    "        beta[sel11] = -10\n",
    "        sel0 = sel[sparsity : ]\n",
    "        beta[sel0] = 0.\n",
    "        \n",
    "        return np.transpose(np.array([beta]))\n",
    "\n",
    "    def data1(n_samples, t, sigma):\n",
    "        \n",
    "        n_features = np.shape(t)[0]\n",
    "        cov = np.identity(n_features)\n",
    "        \n",
    "        X = alea.multivariate_normal(np.zeros(n_features), cov, size=n_samples)\n",
    "        Y = np.dot(X,t) + sigma * np.transpose([alea.randn(n_samples)])\n",
    "        \n",
    "        return Y, X\n",
    "\n",
    "    def data2(n_outliers, n_features, type_outliers = 1, beta = 1, rho=1):\n",
    "        \n",
    "        if type_outliers == 1 :\n",
    "            \n",
    "            Y = np.ones((n_outliers,1))\n",
    "            X = np.ones((n_outliers, n_features))\n",
    "            \n",
    "        elif type_outliers == 2 :\n",
    "            \n",
    "            Y = 10000 * np.ones((n_outliers,1))\n",
    "            X = np.ones((n_outliers, n_features))\n",
    "            \n",
    "        elif type_outliers == 3 :\n",
    "            \n",
    "            Y = np.random.randint(2, size = n_outliers)\n",
    "            X = np.random.rand(n_outliers, n_features)\n",
    "            \n",
    "        else :\n",
    "            \n",
    "            cov = np.identity(n_features)\n",
    "            \n",
    "            X = feature_mat(n_features, n_outliers, rho)\n",
    "            Y = X.dot(beta) + sigma * alea.randn(n_samples)\n",
    "            \n",
    "        return Y, X\n",
    "        \n",
    "    def data3(n_heavy_tail, beta, deg = 2) :\n",
    "        \n",
    "        n_features = beta.size\n",
    "        cov = np.identity(n_features)\n",
    "        \n",
    "        X = alea.multivariate_normal(np.zeros(n_features), cov, size=n_heavy_tail)\n",
    "        Y = X.dot(beta) + np.random.standard_t(deg, size=n_heavy_tail)\n",
    "        \n",
    "        return Y, X\n",
    "\n",
    "    def data_merge(Y1, X1, Y2, X2):\n",
    "        \n",
    "        Y = np.concatenate((Y1, Y2), axis=0)\n",
    "        X = np.concatenate((X1, X2), axis=0)\n",
    "        R=np.concatenate((Y,X),axis=1)\n",
    "        alea.shuffle(R)\n",
    "        \n",
    "        Y=R[:,0]\n",
    "        X=R[:,1:]\n",
    "        \n",
    "        return Y,X"
   ]
  }
 ],
 "metadata": {
  "kernelspec": {
   "display_name": "Python 3",
   "language": "python",
   "name": "python3"
  },
  "language_info": {
   "codemirror_mode": {
    "name": "ipython",
    "version": 3
   },
   "file_extension": ".py",
   "mimetype": "text/x-python",
   "name": "python",
   "nbconvert_exporter": "python",
   "pygments_lexer": "ipython3",
   "version": "3.6.4"
  }
 },
 "nbformat": 4,
 "nbformat_minor": 2
}
